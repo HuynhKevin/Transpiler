{
 "cells": [
  {
   "cell_type": "code",
   "execution_count": 4,
   "metadata": {},
   "outputs": [],
   "source": [
    "import pandas as pd  \n",
    "import joblib\n",
    "\n",
    "data = pd.read_csv('./tumors.csv')\n",
    "X = data.iloc[:, :2].values\n",
    "y = data.iloc[:, 2:].values\n",
    "\n",
    "from sklearn.model_selection import train_test_split\n",
    "X_train, X_test, y_train, y_test = train_test_split(X, y, test_size=0.25)\n",
    "\n",
    "from sklearn.linear_model import LinearRegression\n",
    "regr = LinearRegression().fit(X_train, y_train)\n",
    "\n",
    "filename = 'model.joblib'\n",
    "joblib.dump(regr, open(filename, 'wb'))"
   ]
  },
  {
   "cell_type": "code",
   "execution_count": 5,
   "metadata": {},
   "outputs": [
    {
     "data": {
      "text/plain": [
       "array([[1.36808458e-02, 1.61491433e-05],\n",
       "       [1.88445296e-02, 5.82518938e-03],\n",
       "       [1.19078062e-02, 1.67256568e-03]])"
      ]
     },
     "execution_count": 5,
     "metadata": {},
     "output_type": "execute_result"
    }
   ],
   "source": [
    "X_test[:3]"
   ]
  },
  {
   "cell_type": "code",
   "execution_count": 6,
   "metadata": {},
   "outputs": [
    {
     "data": {
      "text/plain": [
       "array([[ 1.08455238],\n",
       "       [-0.19893066],\n",
       "       [ 0.70425552]])"
      ]
     },
     "execution_count": 6,
     "metadata": {},
     "output_type": "execute_result"
    }
   ],
   "source": [
    "regr.predict(X_test[:3])"
   ]
  },
  {
   "cell_type": "markdown",
   "metadata": {},
   "source": [
    "Binary of C file: Test prediction"
   ]
  },
  {
   "cell_type": "code",
   "execution_count": 15,
   "metadata": {},
   "outputs": [
    {
     "name": "stdout",
     "output_type": "stream",
     "text": [
      "1.084552\n",
      "-0.198931\n",
      "0.704255"
     ]
    }
   ],
   "source": [
    "!./a.out 1.36808458e-02 1.61491433e-05\n",
    "print()\n",
    "!./a.out 1.88445296e-02 5.82518938e-03\n",
    "print()\n",
    "!./a.out 1.19078062e-02, 1.67256568e-03"
   ]
  }
 ],
 "metadata": {
  "interpreter": {
   "hash": "40d3a090f54c6569ab1632332b64b2c03c39dcf918b08424e98f38b5ae0af88f"
  },
  "kernelspec": {
   "display_name": "Python 3.8.5 64-bit ('base': conda)",
   "language": "python",
   "name": "python3"
  },
  "language_info": {
   "codemirror_mode": {
    "name": "ipython",
    "version": 3
   },
   "file_extension": ".py",
   "mimetype": "text/x-python",
   "name": "python",
   "nbconvert_exporter": "python",
   "pygments_lexer": "ipython3",
   "version": "3.8.5"
  },
  "orig_nbformat": 4
 },
 "nbformat": 4,
 "nbformat_minor": 2
}
